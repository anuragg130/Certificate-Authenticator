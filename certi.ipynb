{
 "cells": [
  {
   "cell_type": "markdown",
   "source": [
    "Extract text from Cerificate PNGs"
   ],
   "metadata": {
    "collapsed": false
   }
  },
  {
   "cell_type": "code",
   "execution_count": 1,
   "outputs": [],
   "source": [
    "# C:\\Program Files\\Tesseract-OCR"
   ],
   "metadata": {
    "collapsed": false
   }
  },
  {
   "cell_type": "code",
   "execution_count": 4,
   "outputs": [
    {
     "name": "stdout",
     "output_type": "stream",
     "text": [
      "NK N-S°D-C\n",
      ": National\n",
      "Ey Skill Development\n",
      ". Corporation\n",
      "| | GOVERNMENT OF INDIA Transforming the skill landscape\n",
      "Skill India MINISTRY OF SKILL DEVELOPMENT www.nsdcindia.org\n",
      "we ATA - BCT ANA & ENTREPRENEURSHIP\n",
      "\n",
      "EEE,\n",
      "\n",
      "Certificate\n",
      "\n",
      "This is to certify that\n",
      "\n",
      "Mrs AKSHA PARVEEN W/O MD. ANIS\n",
      "has successfully cleared the assessment for the role of\n",
      "Fashion Designer (QP No. - AMH/Q1201)\n",
      "conforming to National Skills Qualifications Framework Level-4\n",
      "\n",
      "Date of Issuance 8th December 2021\n",
      "\n",
      "System Identification Number\n",
      "\n",
      "Ahsus/FD/01\n",
      "Typued by... £..00..R)...ssssscssscecseeh doscsesssesssesssessssag Qi toroeerecssscsssonsdattore] G\n",
      "\n",
      "le rae\n",
      "ag AX APPAREL MADE-UPS &HOMEFURNISHING Institution Name\n",
      "SECTOR SKILL COUNCIL\n",
      "\n",
      "Signature.\n",
      "\n",
      "Shri Premal Udani\n",
      "Chairman (253)89070467052150000121292\n",
      "Apparel Made-Ups & Home Furnishing Sector Skill Council www.nsdcindia.org/pbsecure\n",
      "\n",
      "\n"
     ]
    }
   ],
   "source": [
    "from PIL import Image\n",
    "import pytesseract\n",
    "\n",
    "pytesseract.pytesseract.tesseract_cmd = r'C:\\Program Files\\Tesseract-OCR\\tesseract.exe'\n",
    "\n",
    "im = Image.open(\"D:\\EY\\Cerificate Scanner\\Certificate png\\_writereaddata_AssessmentCertificate_AssessmentCerti_18686637952146983882717320883_page1.png\")\n",
    "text = pytesseract.image_to_string(im, lang = 'eng')\n",
    "\n",
    "print(text)"
   ],
   "metadata": {
    "collapsed": false,
    "ExecuteTime": {
     "end_time": "2023-07-19T08:37:48.970022200Z",
     "start_time": "2023-07-19T08:37:46.572889500Z"
    }
   }
  },
  {
   "cell_type": "code",
   "execution_count": 9,
   "outputs": [],
   "source": [
    "import re\n",
    "\n",
    "def extract_information(text):\n",
    "    name_pattern = r\"Mr\\.\\s+(.*?)\\s+S/o\\s+(.*?)\\n\"\n",
    "    course_pattern = r\"for the role of\\n(.*?)\\s+\\((.*?)\\)\"\n",
    "    level_pattern = r\"National Skills Qualifications Framework Level-(\\d+)\"\n",
    "\n",
    "    candidate_match = re.search(name_pattern, text)\n",
    "    candidate_name = candidate_match.group(1)\n",
    "    guardian_name = candidate_match.group(2)\n",
    "\n",
    "    course_match = re.search(course_pattern, text)\n",
    "    course_name = course_match.group(1)\n",
    "    course_code = course_match.group(2)\n",
    "\n",
    "    level_match = re.search(level_pattern, text)\n",
    "    skill_level = level_match.group(1)\n",
    "\n",
    "    return {\n",
    "        \"Candidate Name\": candidate_name,\n",
    "        \"Guardian Name\": guardian_name,\n",
    "        \"Course Name\": course_name,\n",
    "        \"Course Code\": course_code,\n",
    "        \"Level\": skill_level\n",
    "    }\n",
    "\n"
   ],
   "metadata": {
    "collapsed": false,
    "ExecuteTime": {
     "end_time": "2023-07-19T08:38:54.776493900Z",
     "start_time": "2023-07-19T08:38:54.752475800Z"
    }
   }
  },
  {
   "cell_type": "code",
   "execution_count": 10,
   "outputs": [
    {
     "name": "stdout",
     "output_type": "stream",
     "text": [
      "Fusing layers... \n",
      "IDetect.fuse\n",
      "CERTIFICATE OF COMPLETION\n",
      "Name: Babul Chowdhury\n",
      "Father Name: Abdus Sobur Sk \n",
      "SID: SKT- 000498873\n",
      "Job Name: MEDICAL LABORATORY TECHNICIAN (HSS/Q0301)\n",
      "Date of Issuance: 23-Aug-2022\n",
      "\n",
      "Created & Maintained By: HSSC\n"
     ]
    }
   ],
   "source": [
    "    from qreader import QReader\n",
    "import cv2\n",
    "\n",
    "image_path = \"D:\\EY\\zdfx-1.png\"\n",
    "\n",
    "qreader = QReader()\n",
    "image = cv2.cvtColor(cv2.imread(image_path), cv2.COLOR_BGR2RGB)\n",
    "decoded_texts = qreader.detect_and_decode(image=image)\n",
    "\n",
    "#print(type(decoded_texts))\n",
    "\n",
    "for qrtext in decoded_texts:\n",
    "     print(qrtext)"
   ],
   "metadata": {
    "collapsed": false,
    "ExecuteTime": {
     "end_time": "2023-07-19T10:31:00.622097800Z",
     "start_time": "2023-07-19T10:30:57.737222900Z"
    }
   }
  },
  {
   "cell_type": "code",
   "execution_count": 18,
   "outputs": [
    {
     "ename": "NameError",
     "evalue": "name 'decoded_texts' is not defined",
     "output_type": "error",
     "traceback": [
      "\u001B[1;31m---------------------------------------------------------------------------\u001B[0m",
      "\u001B[1;31mNameError\u001B[0m                                 Traceback (most recent call last)",
      "Cell \u001B[1;32mIn[18], line 1\u001B[0m\n\u001B[1;32m----> 1\u001B[0m string1 \u001B[38;5;241m=\u001B[39m \u001B[38;5;124m\"\u001B[39m\u001B[38;5;124m \u001B[39m\u001B[38;5;124m\"\u001B[39m\u001B[38;5;241m.\u001B[39mjoin(\u001B[43mdecoded_texts\u001B[49m)\n\u001B[0;32m      2\u001B[0m \u001B[38;5;28mprint\u001B[39m(string1)\n",
      "\u001B[1;31mNameError\u001B[0m: name 'decoded_texts' is not defined"
     ]
    }
   ],
   "source": [
    "\n",
    "from qreader import QReader\n",
    "import cv2\n",
    "\n",
    "image_path = \"D:\\EY\\zdfx-1.png\"\n",
    "\n",
    "qreader = QReader()\n",
    "image = cv2.cvtColor(cv2.imread(image_path), cv2.COLOR_BGR2RGB)\n",
    "decoded_texts = qreader.detect_and_decode(image=image)\n",
    "\n",
    "string1 = \" \".join(decoded_texts)\n",
    "print(string1)\n",
    "\n",
    "import re\n",
    "\n",
    "text = string1\n",
    "\n",
    "name_pattern = r'Name:\\s+(.*)\\n'\n",
    "father_name_pattern = r'Father Name:\\s+(.*)\\n'\n",
    "job_name_pattern = r'Job Name:\\s+(.*)\\s+\\((.*)\\)'\n",
    "\n",
    "name_match = re.search(name_pattern, text)\n",
    "father_name_match = re.search(father_name_pattern, text)\n",
    "job_name_match = re.search(job_name_pattern, text)\n",
    "\n",
    "if name_match and father_name_match and job_name_match:\n",
    "    name = name_match.group(1)\n",
    "    father_name = father_name_match.group(1)\n",
    "    job_name = job_name_match.group(1)\n",
    "    job_code = job_name_match.group(2)\n",
    "\n",
    "    print(\"Name:\", name)\n",
    "    print(\"Father Name:\", father_name)\n",
    "    print(\"Job Name:\", job_name)\n",
    "    print(\"Job Code:\", job_code)\n",
    "\n",
    "else:\n",
    "    print(\"Name, Father Name, or Job Name not found in the text.\")\n",
    "\n"
   ],
   "metadata": {
    "collapsed": false,
    "ExecuteTime": {
     "end_time": "2023-07-19T08:52:25.266121500Z",
     "start_time": "2023-07-19T08:52:25.222046100Z"
    }
   }
  },
  {
   "cell_type": "code",
   "execution_count": 28,
   "outputs": [
    {
     "name": "stdout",
     "output_type": "stream",
     "text": [
      "Name: Babul Chowdhury\n",
      "Father Name: Abdus Sobur Sk \n",
      "Job Name: MEDICAL LABORATORY TECHNICIAN\n",
      "Job Code: HSS/Q0301\n"
     ]
    }
   ],
   "source": [
    "import re\n",
    "\n",
    "text = string1\n",
    "\n",
    "name_pattern = r'Name:\\s+(.*)\\n'\n",
    "father_name_pattern = r'Father Name:\\s+(.*)\\n'\n",
    "job_name_pattern = r'Job Name:\\s+(.*)\\s+\\((.*)\\)'\n",
    "\n",
    "\n",
    "name_match = re.search(name_pattern, text)\n",
    "father_name_match = re.search(father_name_pattern, text)\n",
    "job_name_match = re.search(job_name_pattern, text)\n",
    "\n",
    "\n",
    "if name_match and father_name_match and job_name_match:\n",
    "    name = name_match.group(1)\n",
    "    father_name = father_name_match.group(1)\n",
    "    job_name = job_name_match.group(1)\n",
    "    job_code = job_name_match.group(2)\n",
    "\n",
    "    print(\"Name:\", name)\n",
    "    print(\"Father Name:\", father_name)\n",
    "    print(\"Job Name:\", job_name)\n",
    "    print(\"Job Code:\", job_code)\n",
    "\n",
    "else:\n",
    "    print(\"Name, Father Name, or Job Name not found in the text.\")\n"
   ],
   "metadata": {
    "collapsed": false,
    "ExecuteTime": {
     "end_time": "2023-07-18T08:07:25.451275400Z",
     "start_time": "2023-07-18T08:07:25.435641700Z"
    }
   }
  },
  {
   "cell_type": "code",
   "execution_count": 34,
   "outputs": [
    {
     "name": "stdout",
     "output_type": "stream",
     "text": [
      "PDF downloaded successfully and saved as D:\\EY\\Cerificate Scanner\\Cerificates\\ 432615.pdf\n"
     ]
    }
   ],
   "source": [
    "import requests\n",
    "\n",
    "def download_pdf(url, save_path):\n",
    "    response = requests.get(url)\n",
    "    with open(save_path, 'wb') as file:\n",
    "        file.write(response.content)\n",
    "    print(f\"PDF downloaded successfully and saved as {save_path}\")\n",
    "\n",
    "# Example usage\n",
    "pdf_url = 'https://seekhoaurkamao.minorityaffairs.gov.in/writereaddata/AssessmentCertificate/AssessmentCerti_18206637618575192961888432615.pdf'  # Replace with the actual PDF link\n",
    "save_location = 'D:\\EY\\Cerificate Scanner\\Cerificates\\ 432615.pdf'  # Replace with the desired save location\n",
    "\n",
    "download_pdf(pdf_url, save_location)"
   ],
   "metadata": {
    "collapsed": false
   }
  },
  {
   "cell_type": "code",
   "execution_count": 15,
   "outputs": [
    {
     "name": "stdout",
     "output_type": "stream",
     "text": [
      "Extraction completed and data saved to D:\\EY\\Cerificate Scanner\\output5460.xlsx\n"
     ]
    },
    {
     "name": "stderr",
     "output_type": "stream",
     "text": [
      "C:\\Users\\anura\\AppData\\Local\\Temp\\ipykernel_13216\\4009963027.py:50: UserWarning: Pandas requires version '1.4.3' or newer of 'xlsxwriter' (version '1.3.2' currently installed).\n",
      "  df.to_excel(output_file, index=False)\n"
     ]
    }
   ],
   "source": [
    "import pytesseract\n",
    "from PIL import Image\n",
    "import re\n",
    "import os\n",
    "import pandas as pd\n",
    "\n",
    "# Set the Tesseract OCR path\n",
    "pytesseract.pytesseract.tesseract_cmd = r'C:\\Program Files\\Tesseract-OCR\\tesseract.exe'\n",
    "\n",
    "def extract_information_from_image(image_path):\n",
    "    im = Image.open(image_path)\n",
    "    text = pytesseract.image_to_string(im, lang='eng')\n",
    "\n",
    "    name_pattern = r\"(.*?)\\s+(?:S/o|W/o|D/o)\\s+(.*?)\\n\"\n",
    "    course_pattern = r\"for the role of\\n(.*?)\\s+\\((.*?)\\)\"\n",
    "    level_pattern = r\"National Skills Qualifications Framework Level-(\\d+)\"\n",
    "\n",
    "    candidate_match = re.search(name_pattern, text)\n",
    "    candidate_name = candidate_match.group(1) if candidate_match else None\n",
    "    guardian_name = candidate_match.group(2) if candidate_match else None\n",
    "\n",
    "    course_match = re.search(course_pattern, text)\n",
    "    course_name = course_match.group(1) if course_match else None\n",
    "    course_code = course_match.group(2) if course_match else None\n",
    "\n",
    "    level_match = re.search(level_pattern, text)\n",
    "    skill_level = level_match.group(1) if level_match else None\n",
    "\n",
    "    return {\n",
    "        \"Candidate Name\": candidate_name,\n",
    "        \"Guardian Name\": guardian_name,\n",
    "        \"Course Name\": course_name,\n",
    "        \"Course Code\": course_code,\n",
    "        \"Level\": skill_level\n",
    "    }\n",
    "\n",
    "def process_png_files(folder_path, output_file):\n",
    "    data = []\n",
    "\n",
    "    # Process each PNG file in the folder\n",
    "    for file_name in os.listdir(folder_path):\n",
    "        if file_name.lower().endswith('.png'):\n",
    "            file_path = os.path.join(folder_path, file_name)\n",
    "            extracted_info = extract_information_from_image(file_path)\n",
    "            extracted_info['File Name'] = file_name\n",
    "            data.append(extracted_info)\n",
    "\n",
    "    # Create a DataFrame and save it to an Excel file\n",
    "    df = pd.DataFrame(data)\n",
    "    df.to_excel(output_file, index=False)\n",
    "\n",
    "folder_path = \"D:\\EY\\Cerificate Scanner\\Certificate png\"  # Replace with the path to your folder containing PNG files\n",
    "output_file = \"D:\\EY\\Cerificate Scanner\\output5460.xlsx\"  # Replace with the desired output Excel file name\n",
    "\n",
    "process_png_files(folder_path, output_file)\n",
    "print(\"Extraction completed and data saved to\", output_file)\n"
   ],
   "metadata": {
    "collapsed": false,
    "ExecuteTime": {
     "end_time": "2023-07-19T08:47:04.344479800Z",
     "start_time": "2023-07-19T08:46:46.297558300Z"
    }
   }
  },
  {
   "cell_type": "code",
   "execution_count": 16,
   "outputs": [
    {
     "name": "stdout",
     "output_type": "stream",
     "text": [
      "Extraction completed and data saved to D:\\EY\\Cerificate Scanner\\output4269.xlsx\n"
     ]
    },
    {
     "name": "stderr",
     "output_type": "stream",
     "text": [
      "C:\\Users\\anura\\AppData\\Local\\Temp\\ipykernel_13216\\2070402361.py:54: UserWarning: Pandas requires version '1.4.3' or newer of 'xlsxwriter' (version '1.3.2' currently installed).\n",
      "  df.to_excel(output_file, index=False)\n"
     ]
    }
   ],
   "source": [
    "import pytesseract\n",
    "from PIL import Image\n",
    "import re\n",
    "import os\n",
    "import pandas as pd\n",
    "\n",
    "# Set the Tesseract OCR path\n",
    "pytesseract.pytesseract.tesseract_cmd = r'C:\\Program Files\\Tesseract-OCR\\tesseract.exe'\n",
    "\n",
    "def extract_information_from_image(image_path):\n",
    "    im = Image.open(image_path)\n",
    "    text = pytesseract.image_to_string(im, lang='eng')\n",
    "\n",
    "    name_pattern = r\"(.*?)\\s+(?:S/o|W/o|D/o)\\s+(.*?)\\n\"\n",
    "    course_pattern = r\"for the role of\\n(.*?)\\s+\\((.*?)\\)\"\n",
    "    level_pattern = r\"National Skills Qualifications Framework Level-(\\d+)\"\n",
    "\n",
    "    candidate_match = re.search(name_pattern, text)\n",
    "    candidate_name = candidate_match.group(1) if candidate_match else None\n",
    "    guardian_name = candidate_match.group(2) if candidate_match else None\n",
    "\n",
    "    course_match = re.search(course_pattern, text)\n",
    "    course_name = course_match.group(1) if course_match else None\n",
    "    course_code = course_match.group(2) if course_match else None\n",
    "\n",
    "    level_match = re.search(level_pattern, text)\n",
    "    skill_level = level_match.group(1) if level_match else None\n",
    "\n",
    "    return {\n",
    "        \"Candidate Name\": candidate_name,\n",
    "        \"Guardian Name\": guardian_name,\n",
    "        \"Course Name\": course_name,\n",
    "        \"Course Code\": course_code,\n",
    "        \"Level\": skill_level\n",
    "    }\n",
    "\n",
    "def process_png_files(folder_path, output_file):\n",
    "    data = []\n",
    "\n",
    "    # Process each PNG file in the folder\n",
    "    for file_name in os.listdir(folder_path):\n",
    "        if file_name.lower().endswith('.png'):\n",
    "            file_path = os.path.join(folder_path, file_name)\n",
    "            extracted_info = extract_information_from_image(file_path)\n",
    "            extracted_info['File Name'] = file_name\n",
    "            data.append(extracted_info)\n",
    "\n",
    "    # Create a DataFrame and save it to an Excel file\n",
    "    df = pd.DataFrame(data)\n",
    "\n",
    "    # Move 'File Name' to the first column\n",
    "    df = df[['File Name'] + [col for col in df.columns if col != 'File Name']]\n",
    "\n",
    "    df.to_excel(output_file, index=False)\n",
    "\n",
    "folder_path = \"D:\\EY\\Cerificate Scanner\\Certificate png\"  # Replace with the path to your folder containing PNG files\n",
    "output_file = \"D:\\EY\\Cerificate Scanner\\output4269.xlsx\"  # Replace with the desired output Excel file name\n",
    "\n",
    "process_png_files(folder_path, output_file)\n",
    "print(\"Extraction completed and data saved to\", output_file)\n"
   ],
   "metadata": {
    "collapsed": false,
    "ExecuteTime": {
     "end_time": "2023-07-19T08:49:04.060519900Z",
     "start_time": "2023-07-19T08:48:47.824227200Z"
    }
   }
  }
 ],
 "metadata": {
  "kernelspec": {
   "display_name": "Python 3",
   "language": "python",
   "name": "python3"
  },
  "language_info": {
   "codemirror_mode": {
    "name": "ipython",
    "version": 2
   },
   "file_extension": ".py",
   "mimetype": "text/x-python",
   "name": "python",
   "nbconvert_exporter": "python",
   "pygments_lexer": "ipython2",
   "version": "2.7.6"
  }
 },
 "nbformat": 4,
 "nbformat_minor": 0
}
